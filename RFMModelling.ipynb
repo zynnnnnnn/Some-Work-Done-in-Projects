{
  "nbformat": 4,
  "nbformat_minor": 5,
  "metadata": {
    "kernelspec": {
      "display_name": "Python 3 (ipykernel)",
      "language": "python",
      "name": "python3"
    },
    "language_info": {
      "codemirror_mode": {
        "name": "ipython",
        "version": 3
      },
      "file_extension": ".py",
      "mimetype": "text/x-python",
      "name": "python",
      "nbconvert_exporter": "python",
      "pygments_lexer": "ipython3",
      "version": "3.8.11"
    },
    "colab": {
      "name": "DSA3101_Grp10_RFMModelling.ipynb",
      "provenance": []
    }
  },
  "cells": [
    {
      "cell_type": "markdown",
      "metadata": {
        "id": "6b0db839-22c2-445f-97be-ada5c13b4682"
      },
      "source": [
        "# RFM Modelling"
      ],
      "id": "6b0db839-22c2-445f-97be-ada5c13b4682"
    },
    {
      "cell_type": "markdown",
      "metadata": {
        "id": "9bf80a56-474e-49fe-b1b1-bbfa7a9ba9ac"
      },
      "source": [
        "## Setting up environment"
      ],
      "id": "9bf80a56-474e-49fe-b1b1-bbfa7a9ba9ac"
    },
    {
      "cell_type": "code",
      "metadata": {
        "id": "42f8230a-5a6b-410e-9745-6072d1fea9bc"
      },
      "source": [
        "import pandas as pd\n",
        "import seaborn as sns\n",
        "import matplotlib.pyplot as plt\n",
        "import datetime\n",
        "import io"
      ],
      "id": "42f8230a-5a6b-410e-9745-6072d1fea9bc",
      "execution_count": null,
      "outputs": []
    },
    {
      "cell_type": "code",
      "metadata": {
        "id": "766e9817-4697-4bf1-bddf-1899ba8db3f6"
      },
      "source": [
        "raw_data = pd.read_csv('/content/transaction_data(with_ttl_cals).csv')"
      ],
      "id": "766e9817-4697-4bf1-bddf-1899ba8db3f6",
      "execution_count": null,
      "outputs": []
    },
    {
      "cell_type": "code",
      "metadata": {
        "id": "ef3a584f-085e-43b2-832d-6c5474a8fffc",
        "colab": {
          "base_uri": "https://localhost:8080/"
        },
        "outputId": "10f286f8-48a2-4f35-ef61-6579f520fc46"
      },
      "source": [
        "raw_data.head()"
      ],
      "id": "ef3a584f-085e-43b2-832d-6c5474a8fffc",
      "execution_count": null,
      "outputs": [
        {
          "output_type": "execute_result",
          "data": {
            "text/html": [
              "<div>\n",
              "<style scoped>\n",
              "    .dataframe tbody tr th:only-of-type {\n",
              "        vertical-align: middle;\n",
              "    }\n",
              "\n",
              "    .dataframe tbody tr th {\n",
              "        vertical-align: top;\n",
              "    }\n",
              "\n",
              "    .dataframe thead th {\n",
              "        text-align: right;\n",
              "    }\n",
              "</style>\n",
              "<table border=\"1\" class=\"dataframe\">\n",
              "  <thead>\n",
              "    <tr style=\"text-align: right;\">\n",
              "      <th></th>\n",
              "      <th>Panel ID</th>\n",
              "      <th>Date</th>\n",
              "      <th>Category</th>\n",
              "      <th>Pack Size</th>\n",
              "      <th>Volume</th>\n",
              "      <th>Spend</th>\n",
              "      <th>unhealthy</th>\n",
              "      <th>Calories/100g</th>\n",
              "      <th>Price per Volume</th>\n",
              "      <th>ttl cals</th>\n",
              "    </tr>\n",
              "  </thead>\n",
              "  <tbody>\n",
              "    <tr>\n",
              "      <th>0</th>\n",
              "      <td>101011101</td>\n",
              "      <td>2018-04-29</td>\n",
              "      <td>SUGAR</td>\n",
              "      <td>2.0</td>\n",
              "      <td>2.0</td>\n",
              "      <td>5.9</td>\n",
              "      <td>1</td>\n",
              "      <td>405</td>\n",
              "      <td>2.99</td>\n",
              "      <td>8100.0</td>\n",
              "    </tr>\n",
              "    <tr>\n",
              "      <th>1</th>\n",
              "      <td>101011101</td>\n",
              "      <td>2021-03-14</td>\n",
              "      <td>EGGS</td>\n",
              "      <td>1.0</td>\n",
              "      <td>30.0</td>\n",
              "      <td>9.9</td>\n",
              "      <td>0</td>\n",
              "      <td>97</td>\n",
              "      <td>0.37</td>\n",
              "      <td>1455.0</td>\n",
              "    </tr>\n",
              "    <tr>\n",
              "      <th>2</th>\n",
              "      <td>101011101</td>\n",
              "      <td>2018-09-23</td>\n",
              "      <td>SNACK</td>\n",
              "      <td>1.0</td>\n",
              "      <td>0.1</td>\n",
              "      <td>1.3</td>\n",
              "      <td>1</td>\n",
              "      <td>300</td>\n",
              "      <td>23.85</td>\n",
              "      <td>300.0</td>\n",
              "    </tr>\n",
              "    <tr>\n",
              "      <th>3</th>\n",
              "      <td>101011101</td>\n",
              "      <td>2021-04-04</td>\n",
              "      <td>COOKING SAUCES</td>\n",
              "      <td>1.0</td>\n",
              "      <td>0.7</td>\n",
              "      <td>5.4</td>\n",
              "      <td>1</td>\n",
              "      <td>175</td>\n",
              "      <td>8.47</td>\n",
              "      <td>1225.0</td>\n",
              "    </tr>\n",
              "    <tr>\n",
              "      <th>4</th>\n",
              "      <td>101011101</td>\n",
              "      <td>2020-02-09</td>\n",
              "      <td>COCONUT MILK</td>\n",
              "      <td>1.0</td>\n",
              "      <td>1.0</td>\n",
              "      <td>10.9</td>\n",
              "      <td>1</td>\n",
              "      <td>233</td>\n",
              "      <td>11.02</td>\n",
              "      <td>2330.0</td>\n",
              "    </tr>\n",
              "  </tbody>\n",
              "</table>\n",
              "</div>"
            ],
            "text/plain": [
              "    Panel ID        Date  ... Price per Volume  ttl cals\n",
              "0  101011101  2018-04-29  ...             2.99    8100.0\n",
              "1  101011101  2021-03-14  ...             0.37    1455.0\n",
              "2  101011101  2018-09-23  ...            23.85     300.0\n",
              "3  101011101  2021-04-04  ...             8.47    1225.0\n",
              "4  101011101  2020-02-09  ...            11.02    2330.0\n",
              "\n",
              "[5 rows x 10 columns]"
            ]
          },
          "metadata": {},
          "execution_count": 54
        }
      ]
    },
    {
      "cell_type": "markdown",
      "metadata": {
        "id": "f5712a38-26a9-466b-a90d-202ca10f9add"
      },
      "source": [
        "## Date Processing "
      ],
      "id": "f5712a38-26a9-466b-a90d-202ca10f9add"
    },
    {
      "cell_type": "code",
      "metadata": {
        "id": "f8ffcb36-a839-4539-864a-4e0c9e1fd4cc",
        "colab": {
          "base_uri": "https://localhost:8080/"
        },
        "outputId": "d6710718-a11d-4d7b-b1a2-6ccade18e550"
      },
      "source": [
        "raw_data.info()"
      ],
      "id": "f8ffcb36-a839-4539-864a-4e0c9e1fd4cc",
      "execution_count": null,
      "outputs": [
        {
          "output_type": "stream",
          "name": "stdout",
          "text": [
            "<class 'pandas.core.frame.DataFrame'>\n",
            "RangeIndex: 1389941 entries, 0 to 1389940\n",
            "Data columns (total 10 columns):\n",
            " #   Column            Non-Null Count    Dtype  \n",
            "---  ------            --------------    -----  \n",
            " 0   Panel ID          1389941 non-null  int64  \n",
            " 1   Date              1389941 non-null  object \n",
            " 2   Category          1389941 non-null  object \n",
            " 3   Pack Size         1389941 non-null  float64\n",
            " 4   Volume            1389941 non-null  float64\n",
            " 5   Spend             1389941 non-null  float64\n",
            " 6   unhealthy         1389941 non-null  int64  \n",
            " 7   Calories/100g     1389941 non-null  int64  \n",
            " 8   Price per Volume  1389941 non-null  float64\n",
            " 9   ttl cals          1389941 non-null  float64\n",
            "dtypes: float64(5), int64(3), object(2)\n",
            "memory usage: 106.0+ MB\n"
          ]
        }
      ]
    },
    {
      "cell_type": "code",
      "metadata": {
        "id": "Se0gHfo_yAox",
        "colab": {
          "base_uri": "https://localhost:8080/"
        },
        "outputId": "cb20e3c8-6e9f-4a6f-d6b9-706fb0669eb0"
      },
      "source": [
        "raw_data[['Panel ID','Date']]"
      ],
      "id": "Se0gHfo_yAox",
      "execution_count": null,
      "outputs": [
        {
          "output_type": "execute_result",
          "data": {
            "text/html": [
              "<div>\n",
              "<style scoped>\n",
              "    .dataframe tbody tr th:only-of-type {\n",
              "        vertical-align: middle;\n",
              "    }\n",
              "\n",
              "    .dataframe tbody tr th {\n",
              "        vertical-align: top;\n",
              "    }\n",
              "\n",
              "    .dataframe thead th {\n",
              "        text-align: right;\n",
              "    }\n",
              "</style>\n",
              "<table border=\"1\" class=\"dataframe\">\n",
              "  <thead>\n",
              "    <tr style=\"text-align: right;\">\n",
              "      <th></th>\n",
              "      <th>Panel ID</th>\n",
              "      <th>Date</th>\n",
              "    </tr>\n",
              "  </thead>\n",
              "  <tbody>\n",
              "    <tr>\n",
              "      <th>0</th>\n",
              "      <td>101011101</td>\n",
              "      <td>2018-04-29</td>\n",
              "    </tr>\n",
              "    <tr>\n",
              "      <th>1</th>\n",
              "      <td>101011101</td>\n",
              "      <td>2021-03-14</td>\n",
              "    </tr>\n",
              "    <tr>\n",
              "      <th>2</th>\n",
              "      <td>101011101</td>\n",
              "      <td>2018-09-23</td>\n",
              "    </tr>\n",
              "    <tr>\n",
              "      <th>3</th>\n",
              "      <td>101011101</td>\n",
              "      <td>2021-04-04</td>\n",
              "    </tr>\n",
              "    <tr>\n",
              "      <th>4</th>\n",
              "      <td>101011101</td>\n",
              "      <td>2020-02-09</td>\n",
              "    </tr>\n",
              "    <tr>\n",
              "      <th>...</th>\n",
              "      <td>...</td>\n",
              "      <td>...</td>\n",
              "    </tr>\n",
              "    <tr>\n",
              "      <th>1389936</th>\n",
              "      <td>802315301</td>\n",
              "      <td>2021-04-25</td>\n",
              "    </tr>\n",
              "    <tr>\n",
              "      <th>1389937</th>\n",
              "      <td>802315301</td>\n",
              "      <td>2021-04-25</td>\n",
              "    </tr>\n",
              "    <tr>\n",
              "      <th>1389938</th>\n",
              "      <td>802315301</td>\n",
              "      <td>2021-04-04</td>\n",
              "    </tr>\n",
              "    <tr>\n",
              "      <th>1389939</th>\n",
              "      <td>802315301</td>\n",
              "      <td>2021-04-04</td>\n",
              "    </tr>\n",
              "    <tr>\n",
              "      <th>1389940</th>\n",
              "      <td>802315301</td>\n",
              "      <td>2021-04-25</td>\n",
              "    </tr>\n",
              "  </tbody>\n",
              "</table>\n",
              "<p>1389941 rows × 2 columns</p>\n",
              "</div>"
            ],
            "text/plain": [
              "          Panel ID        Date\n",
              "0        101011101  2018-04-29\n",
              "1        101011101  2021-03-14\n",
              "2        101011101  2018-09-23\n",
              "3        101011101  2021-04-04\n",
              "4        101011101  2020-02-09\n",
              "...            ...         ...\n",
              "1389936  802315301  2021-04-25\n",
              "1389937  802315301  2021-04-25\n",
              "1389938  802315301  2021-04-04\n",
              "1389939  802315301  2021-04-04\n",
              "1389940  802315301  2021-04-25\n",
              "\n",
              "[1389941 rows x 2 columns]"
            ]
          },
          "metadata": {},
          "execution_count": 56
        }
      ]
    },
    {
      "cell_type": "code",
      "metadata": {
        "id": "bwADWlI21LUh"
      },
      "source": [
        "raw_data['Date'] = pd.to_datetime(raw_data['Date'])"
      ],
      "id": "bwADWlI21LUh",
      "execution_count": null,
      "outputs": []
    },
    {
      "cell_type": "code",
      "metadata": {
        "id": "aae1fed4-92d9-4fab-b038-51dd63af7aee",
        "colab": {
          "base_uri": "https://localhost:8080/"
        },
        "outputId": "0e0721c1-e688-4a73-d966-79e5c47408f2"
      },
      "source": [
        "print('First recorded purchase: {0}'.format(raw_data['Date'].min()))\n",
        "print('Last recorded purchase: {0}'.format(raw_data['Date'].max()))\n",
        "print('Time between last and first purchase: {0}'.format(raw_data['Date'].max() - raw_data['Date'].min()))"
      ],
      "id": "aae1fed4-92d9-4fab-b038-51dd63af7aee",
      "execution_count": null,
      "outputs": [
        {
          "output_type": "stream",
          "name": "stdout",
          "text": [
            "First recorded purchase: 2018-04-29 00:00:00\n",
            "Last recorded purchase: 2021-04-25 00:00:00\n",
            "Time between last and first purchase: 1092 days 00:00:00\n"
          ]
        }
      ]
    },
    {
      "cell_type": "code",
      "metadata": {
        "id": "167d1e2c-c8a9-47aa-90a2-8749a538e56c",
        "colab": {
          "base_uri": "https://localhost:8080/"
        },
        "outputId": "a8374bfb-0b37-45f6-8a67-a95376751bf4"
      },
      "source": [
        "raw_data.describe()"
      ],
      "id": "167d1e2c-c8a9-47aa-90a2-8749a538e56c",
      "execution_count": null,
      "outputs": [
        {
          "output_type": "execute_result",
          "data": {
            "text/html": [
              "<div>\n",
              "<style scoped>\n",
              "    .dataframe tbody tr th:only-of-type {\n",
              "        vertical-align: middle;\n",
              "    }\n",
              "\n",
              "    .dataframe tbody tr th {\n",
              "        vertical-align: top;\n",
              "    }\n",
              "\n",
              "    .dataframe thead th {\n",
              "        text-align: right;\n",
              "    }\n",
              "</style>\n",
              "<table border=\"1\" class=\"dataframe\">\n",
              "  <thead>\n",
              "    <tr style=\"text-align: right;\">\n",
              "      <th></th>\n",
              "      <th>Panel ID</th>\n",
              "      <th>Pack Size</th>\n",
              "      <th>Volume</th>\n",
              "      <th>Spend</th>\n",
              "      <th>unhealthy</th>\n",
              "      <th>Calories/100g</th>\n",
              "      <th>Price per Volume</th>\n",
              "      <th>ttl cals</th>\n",
              "    </tr>\n",
              "  </thead>\n",
              "  <tbody>\n",
              "    <tr>\n",
              "      <th>count</th>\n",
              "      <td>1.389941e+06</td>\n",
              "      <td>1.389941e+06</td>\n",
              "      <td>1.389941e+06</td>\n",
              "      <td>1.389941e+06</td>\n",
              "      <td>1.389941e+06</td>\n",
              "      <td>1.389941e+06</td>\n",
              "      <td>1.389941e+06</td>\n",
              "      <td>1.389941e+06</td>\n",
              "    </tr>\n",
              "    <tr>\n",
              "      <th>mean</th>\n",
              "      <td>4.731437e+08</td>\n",
              "      <td>1.505325e+00</td>\n",
              "      <td>3.249373e+00</td>\n",
              "      <td>9.778363e+00</td>\n",
              "      <td>6.165945e-01</td>\n",
              "      <td>2.711081e+02</td>\n",
              "      <td>1.261062e+01</td>\n",
              "      <td>3.549799e+03</td>\n",
              "    </tr>\n",
              "    <tr>\n",
              "      <th>std</th>\n",
              "      <td>2.815854e+08</td>\n",
              "      <td>1.996701e+00</td>\n",
              "      <td>7.560122e+00</td>\n",
              "      <td>1.606698e+01</td>\n",
              "      <td>4.862159e-01</td>\n",
              "      <td>1.978653e+02</td>\n",
              "      <td>1.129543e+01</td>\n",
              "      <td>7.667438e+03</td>\n",
              "    </tr>\n",
              "    <tr>\n",
              "      <th>min</th>\n",
              "      <td>1.010111e+08</td>\n",
              "      <td>3.000000e-01</td>\n",
              "      <td>1.285347e-03</td>\n",
              "      <td>1.000000e-01</td>\n",
              "      <td>0.000000e+00</td>\n",
              "      <td>0.000000e+00</td>\n",
              "      <td>3.700000e-01</td>\n",
              "      <td>0.000000e+00</td>\n",
              "    </tr>\n",
              "    <tr>\n",
              "      <th>25%</th>\n",
              "      <td>2.100971e+08</td>\n",
              "      <td>1.000000e+00</td>\n",
              "      <td>3.000000e-01</td>\n",
              "      <td>3.600000e+00</td>\n",
              "      <td>0.000000e+00</td>\n",
              "      <td>9.700000e+01</td>\n",
              "      <td>3.050000e+00</td>\n",
              "      <td>4.850000e+02</td>\n",
              "    </tr>\n",
              "    <tr>\n",
              "      <th>50%</th>\n",
              "      <td>3.480771e+08</td>\n",
              "      <td>1.000000e+00</td>\n",
              "      <td>8.000000e-01</td>\n",
              "      <td>5.800000e+00</td>\n",
              "      <td>1.000000e+00</td>\n",
              "      <td>2.330000e+02</td>\n",
              "      <td>1.010000e+01</td>\n",
              "      <td>1.220000e+03</td>\n",
              "    </tr>\n",
              "    <tr>\n",
              "      <th>75%</th>\n",
              "      <td>8.007737e+08</td>\n",
              "      <td>2.000000e+00</td>\n",
              "      <td>2.000000e+00</td>\n",
              "      <td>1.090000e+01</td>\n",
              "      <td>1.000000e+00</td>\n",
              "      <td>4.160000e+02</td>\n",
              "      <td>1.629000e+01</td>\n",
              "      <td>2.880000e+03</td>\n",
              "    </tr>\n",
              "    <tr>\n",
              "      <th>max</th>\n",
              "      <td>8.023153e+08</td>\n",
              "      <td>3.000000e+02</td>\n",
              "      <td>6.000000e+02</td>\n",
              "      <td>2.250000e+03</td>\n",
              "      <td>1.000000e+00</td>\n",
              "      <td>8.000000e+02</td>\n",
              "      <td>2.001900e+02</td>\n",
              "      <td>9.360000e+05</td>\n",
              "    </tr>\n",
              "  </tbody>\n",
              "</table>\n",
              "</div>"
            ],
            "text/plain": [
              "           Panel ID     Pack Size  ...  Price per Volume      ttl cals\n",
              "count  1.389941e+06  1.389941e+06  ...      1.389941e+06  1.389941e+06\n",
              "mean   4.731437e+08  1.505325e+00  ...      1.261062e+01  3.549799e+03\n",
              "std    2.815854e+08  1.996701e+00  ...      1.129543e+01  7.667438e+03\n",
              "min    1.010111e+08  3.000000e-01  ...      3.700000e-01  0.000000e+00\n",
              "25%    2.100971e+08  1.000000e+00  ...      3.050000e+00  4.850000e+02\n",
              "50%    3.480771e+08  1.000000e+00  ...      1.010000e+01  1.220000e+03\n",
              "75%    8.007737e+08  2.000000e+00  ...      1.629000e+01  2.880000e+03\n",
              "max    8.023153e+08  3.000000e+02  ...      2.001900e+02  9.360000e+05\n",
              "\n",
              "[8 rows x 8 columns]"
            ]
          },
          "metadata": {},
          "execution_count": 59
        }
      ]
    },
    {
      "cell_type": "markdown",
      "metadata": {
        "id": "2d34e2f4-af35-4a1a-b032-fd6f98a29b7b"
      },
      "source": [
        "## Group by and aggregate"
      ],
      "id": "2d34e2f4-af35-4a1a-b032-fd6f98a29b7b"
    },
    {
      "cell_type": "code",
      "metadata": {
        "id": "b0017500-5edd-4bae-b4d6-b996a2d71503",
        "colab": {
          "base_uri": "https://localhost:8080/"
        },
        "outputId": "874640bc-7e9f-425d-b1e4-b080112f728d"
      },
      "source": [
        "#Group by Panel ID\n",
        "raw_data.groupby(['Panel ID']).agg({'Date':['max','count'],\n",
        "                                       'Spend':'sum',\n",
        "                                      })"
      ],
      "id": "b0017500-5edd-4bae-b4d6-b996a2d71503",
      "execution_count": null,
      "outputs": [
        {
          "output_type": "execute_result",
          "data": {
            "text/html": [
              "<div>\n",
              "<style scoped>\n",
              "    .dataframe tbody tr th:only-of-type {\n",
              "        vertical-align: middle;\n",
              "    }\n",
              "\n",
              "    .dataframe tbody tr th {\n",
              "        vertical-align: top;\n",
              "    }\n",
              "\n",
              "    .dataframe thead tr th {\n",
              "        text-align: left;\n",
              "    }\n",
              "\n",
              "    .dataframe thead tr:last-of-type th {\n",
              "        text-align: right;\n",
              "    }\n",
              "</style>\n",
              "<table border=\"1\" class=\"dataframe\">\n",
              "  <thead>\n",
              "    <tr>\n",
              "      <th></th>\n",
              "      <th colspan=\"2\" halign=\"left\">Date</th>\n",
              "      <th>Spend</th>\n",
              "    </tr>\n",
              "    <tr>\n",
              "      <th></th>\n",
              "      <th>max</th>\n",
              "      <th>count</th>\n",
              "      <th>sum</th>\n",
              "    </tr>\n",
              "    <tr>\n",
              "      <th>Panel ID</th>\n",
              "      <th></th>\n",
              "      <th></th>\n",
              "      <th></th>\n",
              "    </tr>\n",
              "  </thead>\n",
              "  <tbody>\n",
              "    <tr>\n",
              "      <th>101011101</th>\n",
              "      <td>2021-04-25</td>\n",
              "      <td>419</td>\n",
              "      <td>4081.70</td>\n",
              "    </tr>\n",
              "    <tr>\n",
              "      <th>101016101</th>\n",
              "      <td>2021-04-25</td>\n",
              "      <td>244</td>\n",
              "      <td>1525.80</td>\n",
              "    </tr>\n",
              "    <tr>\n",
              "      <th>101019101</th>\n",
              "      <td>2021-04-18</td>\n",
              "      <td>1745</td>\n",
              "      <td>8373.69</td>\n",
              "    </tr>\n",
              "    <tr>\n",
              "      <th>101024101</th>\n",
              "      <td>2021-04-25</td>\n",
              "      <td>985</td>\n",
              "      <td>6639.61</td>\n",
              "    </tr>\n",
              "    <tr>\n",
              "      <th>105009103</th>\n",
              "      <td>2021-04-25</td>\n",
              "      <td>1199</td>\n",
              "      <td>4459.60</td>\n",
              "    </tr>\n",
              "    <tr>\n",
              "      <th>...</th>\n",
              "      <td>...</td>\n",
              "      <td>...</td>\n",
              "      <td>...</td>\n",
              "    </tr>\n",
              "    <tr>\n",
              "      <th>802312801</th>\n",
              "      <td>2021-04-18</td>\n",
              "      <td>4</td>\n",
              "      <td>34.40</td>\n",
              "    </tr>\n",
              "    <tr>\n",
              "      <th>802313601</th>\n",
              "      <td>2021-04-25</td>\n",
              "      <td>11</td>\n",
              "      <td>139.30</td>\n",
              "    </tr>\n",
              "    <tr>\n",
              "      <th>802314001</th>\n",
              "      <td>2021-04-25</td>\n",
              "      <td>18</td>\n",
              "      <td>414.00</td>\n",
              "    </tr>\n",
              "    <tr>\n",
              "      <th>802315101</th>\n",
              "      <td>2021-04-25</td>\n",
              "      <td>29</td>\n",
              "      <td>268.20</td>\n",
              "    </tr>\n",
              "    <tr>\n",
              "      <th>802315301</th>\n",
              "      <td>2021-04-25</td>\n",
              "      <td>17</td>\n",
              "      <td>362.00</td>\n",
              "    </tr>\n",
              "  </tbody>\n",
              "</table>\n",
              "<p>3917 rows × 3 columns</p>\n",
              "</div>"
            ],
            "text/plain": [
              "                Date          Spend\n",
              "                 max count      sum\n",
              "Panel ID                           \n",
              "101011101 2021-04-25   419  4081.70\n",
              "101016101 2021-04-25   244  1525.80\n",
              "101019101 2021-04-18  1745  8373.69\n",
              "101024101 2021-04-25   985  6639.61\n",
              "105009103 2021-04-25  1199  4459.60\n",
              "...              ...   ...      ...\n",
              "802312801 2021-04-18     4    34.40\n",
              "802313601 2021-04-25    11   139.30\n",
              "802314001 2021-04-25    18   414.00\n",
              "802315101 2021-04-25    29   268.20\n",
              "802315301 2021-04-25    17   362.00\n",
              "\n",
              "[3917 rows x 3 columns]"
            ]
          },
          "metadata": {},
          "execution_count": 60
        }
      ]
    },
    {
      "cell_type": "code",
      "metadata": {
        "id": "8c2e2f2b-4172-4818-b7d2-f6a5b7258503"
      },
      "source": [
        "pivot_table = raw_data.groupby(['Panel ID']).agg(Recency =pd.NamedAgg('Date', aggfunc='max'),\n",
        "                                       Frequency = pd.NamedAgg('Date', aggfunc='nunique'),\n",
        "                                       Monetary = pd.NamedAgg('Spend', aggfunc='sum'))"
      ],
      "id": "8c2e2f2b-4172-4818-b7d2-f6a5b7258503",
      "execution_count": null,
      "outputs": []
    },
    {
      "cell_type": "code",
      "metadata": {
        "id": "2ae56734-0467-44f0-9777-87cdc890b31b",
        "colab": {
          "base_uri": "https://localhost:8080/"
        },
        "outputId": "a85b795e-9e43-4148-d942-b9cc5bc1c18e"
      },
      "source": [
        "pivot_table"
      ],
      "id": "2ae56734-0467-44f0-9777-87cdc890b31b",
      "execution_count": null,
      "outputs": [
        {
          "output_type": "execute_result",
          "data": {
            "text/html": [
              "<div>\n",
              "<style scoped>\n",
              "    .dataframe tbody tr th:only-of-type {\n",
              "        vertical-align: middle;\n",
              "    }\n",
              "\n",
              "    .dataframe tbody tr th {\n",
              "        vertical-align: top;\n",
              "    }\n",
              "\n",
              "    .dataframe thead th {\n",
              "        text-align: right;\n",
              "    }\n",
              "</style>\n",
              "<table border=\"1\" class=\"dataframe\">\n",
              "  <thead>\n",
              "    <tr style=\"text-align: right;\">\n",
              "      <th></th>\n",
              "      <th>Recency</th>\n",
              "      <th>Frequency</th>\n",
              "      <th>Monetary</th>\n",
              "    </tr>\n",
              "    <tr>\n",
              "      <th>Panel ID</th>\n",
              "      <th></th>\n",
              "      <th></th>\n",
              "      <th></th>\n",
              "    </tr>\n",
              "  </thead>\n",
              "  <tbody>\n",
              "    <tr>\n",
              "      <th>101011101</th>\n",
              "      <td>2021-04-25</td>\n",
              "      <td>113</td>\n",
              "      <td>4081.70</td>\n",
              "    </tr>\n",
              "    <tr>\n",
              "      <th>101016101</th>\n",
              "      <td>2021-04-25</td>\n",
              "      <td>62</td>\n",
              "      <td>1525.80</td>\n",
              "    </tr>\n",
              "    <tr>\n",
              "      <th>101019101</th>\n",
              "      <td>2021-04-18</td>\n",
              "      <td>152</td>\n",
              "      <td>8373.69</td>\n",
              "    </tr>\n",
              "    <tr>\n",
              "      <th>101024101</th>\n",
              "      <td>2021-04-25</td>\n",
              "      <td>152</td>\n",
              "      <td>6639.61</td>\n",
              "    </tr>\n",
              "    <tr>\n",
              "      <th>105009103</th>\n",
              "      <td>2021-04-25</td>\n",
              "      <td>156</td>\n",
              "      <td>4459.60</td>\n",
              "    </tr>\n",
              "    <tr>\n",
              "      <th>...</th>\n",
              "      <td>...</td>\n",
              "      <td>...</td>\n",
              "      <td>...</td>\n",
              "    </tr>\n",
              "    <tr>\n",
              "      <th>802312801</th>\n",
              "      <td>2021-04-18</td>\n",
              "      <td>2</td>\n",
              "      <td>34.40</td>\n",
              "    </tr>\n",
              "    <tr>\n",
              "      <th>802313601</th>\n",
              "      <td>2021-04-25</td>\n",
              "      <td>3</td>\n",
              "      <td>139.30</td>\n",
              "    </tr>\n",
              "    <tr>\n",
              "      <th>802314001</th>\n",
              "      <td>2021-04-25</td>\n",
              "      <td>3</td>\n",
              "      <td>414.00</td>\n",
              "    </tr>\n",
              "    <tr>\n",
              "      <th>802315101</th>\n",
              "      <td>2021-04-25</td>\n",
              "      <td>3</td>\n",
              "      <td>268.20</td>\n",
              "    </tr>\n",
              "    <tr>\n",
              "      <th>802315301</th>\n",
              "      <td>2021-04-25</td>\n",
              "      <td>3</td>\n",
              "      <td>362.00</td>\n",
              "    </tr>\n",
              "  </tbody>\n",
              "</table>\n",
              "<p>3917 rows × 3 columns</p>\n",
              "</div>"
            ],
            "text/plain": [
              "             Recency  Frequency  Monetary\n",
              "Panel ID                                 \n",
              "101011101 2021-04-25        113   4081.70\n",
              "101016101 2021-04-25         62   1525.80\n",
              "101019101 2021-04-18        152   8373.69\n",
              "101024101 2021-04-25        152   6639.61\n",
              "105009103 2021-04-25        156   4459.60\n",
              "...              ...        ...       ...\n",
              "802312801 2021-04-18          2     34.40\n",
              "802313601 2021-04-25          3    139.30\n",
              "802314001 2021-04-25          3    414.00\n",
              "802315101 2021-04-25          3    268.20\n",
              "802315301 2021-04-25          3    362.00\n",
              "\n",
              "[3917 rows x 3 columns]"
            ]
          },
          "metadata": {},
          "execution_count": 62
        }
      ]
    },
    {
      "cell_type": "code",
      "metadata": {
        "id": "n5VMqEls2DI_"
      },
      "source": [
        "refDate = pd.to_datetime('20210501', format='%Y%m%d')\n",
        "pivot_table['Recency']=pivot_table['Recency'].apply(lambda x: (refDate - x).days)"
      ],
      "id": "n5VMqEls2DI_",
      "execution_count": null,
      "outputs": []
    },
    {
      "cell_type": "markdown",
      "metadata": {
        "id": "76aa7949-af33-46e7-b186-c0ea86b9ca82"
      },
      "source": [
        "## RFM Modeling "
      ],
      "id": "76aa7949-af33-46e7-b186-c0ea86b9ca82"
    },
    {
      "cell_type": "code",
      "metadata": {
        "tags": [],
        "id": "115c1401-b222-4407-8440-181f22c053dd"
      },
      "source": [
        "rfmModel=pivot_table.copy()"
      ],
      "id": "115c1401-b222-4407-8440-181f22c053dd",
      "execution_count": null,
      "outputs": []
    },
    {
      "cell_type": "code",
      "metadata": {
        "id": "30923f25-0898-4f53-8ca5-fa7b74d23883",
        "colab": {
          "base_uri": "https://localhost:8080/"
        },
        "outputId": "7d896a4a-979a-4ceb-b284-831b38e283a6"
      },
      "source": [
        "rfmModel.describe()"
      ],
      "id": "30923f25-0898-4f53-8ca5-fa7b74d23883",
      "execution_count": null,
      "outputs": [
        {
          "output_type": "execute_result",
          "data": {
            "text/html": [
              "<div>\n",
              "<style scoped>\n",
              "    .dataframe tbody tr th:only-of-type {\n",
              "        vertical-align: middle;\n",
              "    }\n",
              "\n",
              "    .dataframe tbody tr th {\n",
              "        vertical-align: top;\n",
              "    }\n",
              "\n",
              "    .dataframe thead th {\n",
              "        text-align: right;\n",
              "    }\n",
              "</style>\n",
              "<table border=\"1\" class=\"dataframe\">\n",
              "  <thead>\n",
              "    <tr style=\"text-align: right;\">\n",
              "      <th></th>\n",
              "      <th>Recency</th>\n",
              "      <th>Frequency</th>\n",
              "      <th>Monetary</th>\n",
              "    </tr>\n",
              "  </thead>\n",
              "  <tbody>\n",
              "    <tr>\n",
              "      <th>count</th>\n",
              "      <td>3917.000000</td>\n",
              "      <td>3917.000000</td>\n",
              "      <td>3917.000000</td>\n",
              "    </tr>\n",
              "    <tr>\n",
              "      <th>mean</th>\n",
              "      <td>240.559867</td>\n",
              "      <td>66.905029</td>\n",
              "      <td>3469.836048</td>\n",
              "    </tr>\n",
              "    <tr>\n",
              "      <th>std</th>\n",
              "      <td>338.362361</td>\n",
              "      <td>52.238900</td>\n",
              "      <td>3674.403496</td>\n",
              "    </tr>\n",
              "    <tr>\n",
              "      <th>min</th>\n",
              "      <td>6.000000</td>\n",
              "      <td>1.000000</td>\n",
              "      <td>6.500000</td>\n",
              "    </tr>\n",
              "    <tr>\n",
              "      <th>25%</th>\n",
              "      <td>6.000000</td>\n",
              "      <td>16.000000</td>\n",
              "      <td>707.100000</td>\n",
              "    </tr>\n",
              "    <tr>\n",
              "      <th>50%</th>\n",
              "      <td>13.000000</td>\n",
              "      <td>58.000000</td>\n",
              "      <td>2403.800000</td>\n",
              "    </tr>\n",
              "    <tr>\n",
              "      <th>75%</th>\n",
              "      <td>468.000000</td>\n",
              "      <td>116.000000</td>\n",
              "      <td>5150.000000</td>\n",
              "    </tr>\n",
              "    <tr>\n",
              "      <th>max</th>\n",
              "      <td>1098.000000</td>\n",
              "      <td>156.000000</td>\n",
              "      <td>43404.400000</td>\n",
              "    </tr>\n",
              "  </tbody>\n",
              "</table>\n",
              "</div>"
            ],
            "text/plain": [
              "           Recency    Frequency      Monetary\n",
              "count  3917.000000  3917.000000   3917.000000\n",
              "mean    240.559867    66.905029   3469.836048\n",
              "std     338.362361    52.238900   3674.403496\n",
              "min       6.000000     1.000000      6.500000\n",
              "25%       6.000000    16.000000    707.100000\n",
              "50%      13.000000    58.000000   2403.800000\n",
              "75%     468.000000   116.000000   5150.000000\n",
              "max    1098.000000   156.000000  43404.400000"
            ]
          },
          "metadata": {},
          "execution_count": 65
        }
      ]
    },
    {
      "cell_type": "code",
      "metadata": {
        "id": "f2a258d4-1b7f-4bc6-aee2-68e492e32c3a",
        "colab": {
          "base_uri": "https://localhost:8080/"
        },
        "outputId": "49268c75-a41c-451f-d909-2f9442ab01e7"
      },
      "source": [
        "sns.histplot(x=rfmModel['Recency'])"
      ],
      "id": "f2a258d4-1b7f-4bc6-aee2-68e492e32c3a",
      "execution_count": null,
      "outputs": [
        {
          "output_type": "execute_result",
          "data": {
            "text/plain": [
              "<matplotlib.axes._subplots.AxesSubplot at 0x7fd3e028f150>"
            ]
          },
          "metadata": {},
          "execution_count": 66
        },
        {
          "output_type": "display_data",
          "data": {
            "image/png": "[encoded data removed]",
            "text/plain": [
              "<Figure size 432x288 with 1 Axes>"
            ]
          },
          "metadata": {
            "needs_background": "light"
          }
        }
      ]
    },
    {
      "cell_type": "code",
      "metadata": {
        "id": "78c90a9d-cc51-4068-9f56-1e5118caf851",
        "colab": {
          "base_uri": "https://localhost:8080/"
        },
        "outputId": "7bb74c49-c654-4683-ef33-cafca38ded5b"
      },
      "source": [
        "sns.kdeplot(x=rfmModel['Frequency'])"
      ],
      "id": "78c90a9d-cc51-4068-9f56-1e5118caf851",
      "execution_count": null,
      "outputs": [
        {
          "output_type": "execute_result",
          "data": {
            "text/plain": [
              "<matplotlib.axes._subplots.AxesSubplot at 0x7fd3e0228750>"
            ]
          },
          "metadata": {},
          "execution_count": 67
        },
        {
          "output_type": "display_data",
          "data": {
            "image/png": "[encoded data removed]",
            "text/plain": [
              "<Figure size 432x288 with 1 Axes>"
            ]
          },
          "metadata": {
            "needs_background": "light"
          }
        }
      ]
    },
    {
      "cell_type": "code",
      "metadata": {
        "id": "22a9e9ce-baed-4596-907d-c62462288778",
        "colab": {
          "base_uri": "https://localhost:8080/",
          "height": 296
        },
        "outputId": "57ffd2d8-0b94-4303-a26e-dbea608911d7"
      },
      "source": [
        "sns.kdeplot(x=rfmModel['Monetary'])"
      ],
      "id": "22a9e9ce-baed-4596-907d-c62462288778",
      "execution_count": null,
      "outputs": [
        {
          "output_type": "execute_result",
          "data": {
            "text/plain": [
              "<matplotlib.axes._subplots.AxesSubplot at 0x7fd3e0175dd0>"
            ]
          },
          "metadata": {},
          "execution_count": 68
        },
        {
          "output_type": "display_data",
          "data": {
            "image/png": "[encoded data removed]",
            "text/plain": [
              "<Figure size 432x288 with 1 Axes>"
            ]
          },
          "metadata": {
            "needs_background": "light"
          }
        }
      ]
    },
    {
      "cell_type": "code",
      "metadata": {
        "colab": {
          "base_uri": "https://localhost:8080/"
        },
        "id": "NksYsq0GHUMe",
        "outputId": "d213da19-5b58-4683-9c63-39eb532c5905"
      },
      "source": [
        "corrMatrix = rfmModel.corr()\n",
        "sns.heatmap(corrMatrix, annot=True)\n",
        "plt.show()"
      ],
      "id": "NksYsq0GHUMe",
      "execution_count": null,
      "outputs": [
        {
          "output_type": "display_data",
          "data": {
            "image/png": "[encoded data removed]",
            "text/plain": [
              "<Figure size 432x288 with 2 Axes>"
            ]
          },
          "metadata": {
            "needs_background": "light"
          }
        }
      ]
    },
    {
      "cell_type": "code",
      "metadata": {
        "id": "a29e36ea-7a16-4eae-8e86-14dcdee35a5a"
      },
      "source": [
        "quantiles = rfmModel.quantile(q=[0.2,0.4,0.6,0.8]) # Get a dataframe of quantiles for each column\n",
        "quantiles = quantiles.to_dict() #Convert the dataframe into a nested dictionary of quantiles"
      ],
      "id": "a29e36ea-7a16-4eae-8e86-14dcdee35a5a",
      "execution_count": null,
      "outputs": []
    },
    {
      "cell_type": "code",
      "metadata": {
        "id": "15bced68-a9a7-46d3-ac5b-04d389dcb937",
        "colab": {
          "base_uri": "https://localhost:8080/"
        },
        "outputId": "9c6331ff-fa40-473d-9dbf-c8e735378068"
      },
      "source": [
        "quantiles"
      ],
      "id": "15bced68-a9a7-46d3-ac5b-04d389dcb937",
      "execution_count": null,
      "outputs": [
        {
          "output_type": "execute_result",
          "data": {
            "text/plain": [
              "{'Frequency': {0.2: 11.0, 0.4: 36.0, 0.6: 84.0, 0.8: 126.0},\n",
              " 'Monetary': {0.2: 502.38000000000005,\n",
              "  0.4: 1607.3200000000006,\n",
              "  0.6: 3323.020000000002,\n",
              "  0.8: 5915.659999999998},\n",
              " 'Recency': {0.2: 6.0, 0.4: 6.0, 0.6: 69.0, 0.8: 578.6000000000013}}"
            ]
          },
          "metadata": {},
          "execution_count": 71
        }
      ]
    },
    {
      "cell_type": "code",
      "metadata": {
        "id": "30aecdf9-b559-42c8-af7d-0fe4ba706124"
      },
      "source": [
        "def RScores(value,label,dictionary):   #Functions to get the RFM scores. For R scores, the smaller the number the higher the rank (most recent)\n",
        "    if value <= dictionary[label][0.2]:\n",
        "        return 5\n",
        "    elif value <= dictionary[label][0.4]:\n",
        "        return 4\n",
        "    elif value <= dictionary[label][0.6]:\n",
        "        return 3\n",
        "    elif value <= dictionary[label][0.8]:\n",
        "        return 2\n",
        "    else:\n",
        "        return 1\n",
        "    \n",
        "def FMScores(value,label,dictionary):     #Function to get F and M scores. For F and M, the higher the rank, the more frequent and the more money\n",
        "    if value <= dictionary[label][0.2]:   #has been spent from the customer\n",
        "        return 1\n",
        "    elif value <= dictionary[label][0.4]:\n",
        "        return 2\n",
        "    elif value <= dictionary[label][0.6]:\n",
        "        return 3\n",
        "    elif value <= dictionary[label][0.8]:\n",
        "        return 4\n",
        "    else:\n",
        "        return 5"
      ],
      "id": "30aecdf9-b559-42c8-af7d-0fe4ba706124",
      "execution_count": null,
      "outputs": []
    },
    {
      "cell_type": "code",
      "metadata": {
        "id": "834341c3-917f-46fb-900f-f780b2c77a82",
        "colab": {
          "base_uri": "https://localhost:8080/"
        },
        "outputId": "58eba333-add9-459a-826d-209b0baad7e6"
      },
      "source": [
        "#Apply a function along a column of the dataFrame.\n",
        "#For each row, check the column value and see which bin it belongs to\n",
        "rfmModel['R'] = rfmModel['Recency'].apply(RScores,args=('Recency',quantiles))\n",
        "rfmModel['F'] = rfmModel['Frequency'].apply(FMScores,args=('Frequency',quantiles))\n",
        "rfmModel['M'] = rfmModel['Monetary'].apply(FMScores,args=('Monetary',quantiles))\n",
        "rfmModel['RFM'] = rfmModel.R.map(lambda x: x*100) + rfmModel.F.map(lambda x:x*10) + rfmModel.M\n",
        "rfmModel.head(10)"
      ],
      "id": "834341c3-917f-46fb-900f-f780b2c77a82",
      "execution_count": null,
      "outputs": [
        {
          "output_type": "execute_result",
          "data": {
            "text/html": [
              "<div>\n",
              "<style scoped>\n",
              "    .dataframe tbody tr th:only-of-type {\n",
              "        vertical-align: middle;\n",
              "    }\n",
              "\n",
              "    .dataframe tbody tr th {\n",
              "        vertical-align: top;\n",
              "    }\n",
              "\n",
              "    .dataframe thead th {\n",
              "        text-align: right;\n",
              "    }\n",
              "</style>\n",
              "<table border=\"1\" class=\"dataframe\">\n",
              "  <thead>\n",
              "    <tr style=\"text-align: right;\">\n",
              "      <th></th>\n",
              "      <th>Recency</th>\n",
              "      <th>Frequency</th>\n",
              "      <th>Monetary</th>\n",
              "      <th>R</th>\n",
              "      <th>F</th>\n",
              "      <th>M</th>\n",
              "      <th>RFM</th>\n",
              "    </tr>\n",
              "    <tr>\n",
              "      <th>Panel ID</th>\n",
              "      <th></th>\n",
              "      <th></th>\n",
              "      <th></th>\n",
              "      <th></th>\n",
              "      <th></th>\n",
              "      <th></th>\n",
              "      <th></th>\n",
              "    </tr>\n",
              "  </thead>\n",
              "  <tbody>\n",
              "    <tr>\n",
              "      <th>101011101</th>\n",
              "      <td>6</td>\n",
              "      <td>113</td>\n",
              "      <td>4081.70</td>\n",
              "      <td>5</td>\n",
              "      <td>4</td>\n",
              "      <td>4</td>\n",
              "      <td>544</td>\n",
              "    </tr>\n",
              "    <tr>\n",
              "      <th>101016101</th>\n",
              "      <td>6</td>\n",
              "      <td>62</td>\n",
              "      <td>1525.80</td>\n",
              "      <td>5</td>\n",
              "      <td>3</td>\n",
              "      <td>2</td>\n",
              "      <td>532</td>\n",
              "    </tr>\n",
              "    <tr>\n",
              "      <th>101019101</th>\n",
              "      <td>13</td>\n",
              "      <td>152</td>\n",
              "      <td>8373.69</td>\n",
              "      <td>3</td>\n",
              "      <td>5</td>\n",
              "      <td>5</td>\n",
              "      <td>355</td>\n",
              "    </tr>\n",
              "    <tr>\n",
              "      <th>101024101</th>\n",
              "      <td>6</td>\n",
              "      <td>152</td>\n",
              "      <td>6639.61</td>\n",
              "      <td>5</td>\n",
              "      <td>5</td>\n",
              "      <td>5</td>\n",
              "      <td>555</td>\n",
              "    </tr>\n",
              "    <tr>\n",
              "      <th>105009103</th>\n",
              "      <td>6</td>\n",
              "      <td>156</td>\n",
              "      <td>4459.60</td>\n",
              "      <td>5</td>\n",
              "      <td>5</td>\n",
              "      <td>4</td>\n",
              "      <td>554</td>\n",
              "    </tr>\n",
              "    <tr>\n",
              "      <th>105015101</th>\n",
              "      <td>1000</td>\n",
              "      <td>11</td>\n",
              "      <td>422.40</td>\n",
              "      <td>1</td>\n",
              "      <td>1</td>\n",
              "      <td>1</td>\n",
              "      <td>111</td>\n",
              "    </tr>\n",
              "    <tr>\n",
              "      <th>105017101</th>\n",
              "      <td>6</td>\n",
              "      <td>146</td>\n",
              "      <td>1362.80</td>\n",
              "      <td>5</td>\n",
              "      <td>5</td>\n",
              "      <td>2</td>\n",
              "      <td>552</td>\n",
              "    </tr>\n",
              "    <tr>\n",
              "      <th>105021106</th>\n",
              "      <td>6</td>\n",
              "      <td>155</td>\n",
              "      <td>9706.60</td>\n",
              "      <td>5</td>\n",
              "      <td>5</td>\n",
              "      <td>5</td>\n",
              "      <td>555</td>\n",
              "    </tr>\n",
              "    <tr>\n",
              "      <th>105027101</th>\n",
              "      <td>118</td>\n",
              "      <td>116</td>\n",
              "      <td>5051.80</td>\n",
              "      <td>2</td>\n",
              "      <td>4</td>\n",
              "      <td>4</td>\n",
              "      <td>244</td>\n",
              "    </tr>\n",
              "    <tr>\n",
              "      <th>105031104</th>\n",
              "      <td>13</td>\n",
              "      <td>129</td>\n",
              "      <td>4799.90</td>\n",
              "      <td>3</td>\n",
              "      <td>5</td>\n",
              "      <td>4</td>\n",
              "      <td>354</td>\n",
              "    </tr>\n",
              "  </tbody>\n",
              "</table>\n",
              "</div>"
            ],
            "text/plain": [
              "           Recency  Frequency  Monetary  R  F  M  RFM\n",
              "Panel ID                                             \n",
              "101011101        6        113   4081.70  5  4  4  544\n",
              "101016101        6         62   1525.80  5  3  2  532\n",
              "101019101       13        152   8373.69  3  5  5  355\n",
              "101024101        6        152   6639.61  5  5  5  555\n",
              "105009103        6        156   4459.60  5  5  4  554\n",
              "105015101     1000         11    422.40  1  1  1  111\n",
              "105017101        6        146   1362.80  5  5  2  552\n",
              "105021106        6        155   9706.60  5  5  5  555\n",
              "105027101      118        116   5051.80  2  4  4  244\n",
              "105031104       13        129   4799.90  3  5  4  354"
            ]
          },
          "metadata": {},
          "execution_count": 73
        }
      ]
    },
    {
      "cell_type": "code",
      "metadata": {
        "id": "413b1fa2-4601-4d83-9c49-52a754e0232c"
      },
      "source": [
        "RFM=rfmModel[['R','F','M']].copy()"
      ],
      "id": "413b1fa2-4601-4d83-9c49-52a754e0232c",
      "execution_count": null,
      "outputs": []
    },
    {
      "cell_type": "code",
      "metadata": {
        "id": "Yw-KWL6mqg4L"
      },
      "source": [
        "RFM.to_csv ('\\r rfm.csv', index = True, header=True)"
      ],
      "id": "Yw-KWL6mqg4L",
      "execution_count": null,
      "outputs": []
    },
    {
      "cell_type": "code",
      "metadata": {
        "colab": {
          "base_uri": "https://localhost:8080/"
        },
        "id": "Z5Z_mcpQFdZm",
        "outputId": "0612a76d-54c4-41f9-9bdc-85d858d7101a"
      },
      "source": [
        "fig = plt.subplots(figsize =(10, 7))\n",
        "plt.hist2d(RFM['R'], RFM['F'], cmap='Blues',bins=(5,5))\n",
        "plt.title(\"2D Histogram\")\n",
        "plt.xlabel(\"Recency\")\n",
        "plt.ylabel(\"Frequency\")\n",
        "plt.colorbar()"
      ],
      "id": "Z5Z_mcpQFdZm",
      "execution_count": null,
      "outputs": [
        {
          "output_type": "execute_result",
          "data": {
            "text/plain": [
              "<matplotlib.colorbar.Colorbar at 0x7fd3e0024210>"
            ]
          },
          "metadata": {},
          "execution_count": 76
        },
        {
          "output_type": "display_data",
          "data": {
            "image/png": "[encoded data removed]",
            "text/plain": [
              "<Figure size 720x504 with 2 Axes>"
            ]
          },
          "metadata": {
            "needs_background": "light"
          }
        }
      ]
    },
    {
      "cell_type": "code",
      "metadata": {
        "colab": {
          "base_uri": "https://localhost:8080/",
          "height": 71
        },
        "id": "nCNVmuoLg2cf",
        "outputId": "561b5ea9-7f53-4f87-c9d1-2826ceded936"
      },
      "source": [
        "fig = plt.subplots(figsize =(10, 7))\n",
        "plt.hist2d(RFM['R'], RFM['M'], cmap='Blues',bins=(5,5))\n",
        "plt.title(\"2D Histogram\")\n",
        "plt.xlabel(\"Recency\")\n",
        "plt.ylabel(\"Monetary\")\n",
        "plt.colorbar()"
      ],
      "id": "nCNVmuoLg2cf",
      "execution_count": null,
      "outputs": [
        {
          "output_type": "execute_result",
          "data": {
            "text/plain": [
              "<matplotlib.colorbar.Colorbar at 0x7fd3dff691d0>"
            ]
          },
          "metadata": {},
          "execution_count": 77
        },
        {
          "output_type": "display_data",
          "data": {
            "image/png": "[encoded data removed]",
            "text/plain": [
              "<Figure size 720x504 with 2 Axes>"
            ]
          },
          "metadata": {
            "needs_background": "light"
          }
        }
      ]
    },
    {
      "cell_type": "code",
      "metadata": {
        "colab": {
          "base_uri": "https://localhost:8080/"
        },
        "id": "VUoaTBRAhIje",
        "outputId": "5aa73f83-2850-45ce-c789-895c45e5d9d8"
      },
      "source": [
        "fig = plt.subplots(figsize =(10, 7))\n",
        "plt.hist2d(RFM['F'], RFM['M'], cmap='Blues',bins=(5,5))\n",
        "plt.title(\"2D Histogram\")\n",
        "plt.xlabel(\"Frequency\")\n",
        "plt.ylabel(\"Monetary\")\n",
        "plt.colorbar()"
      ],
      "id": "VUoaTBRAhIje",
      "execution_count": null,
      "outputs": [
        {
          "output_type": "execute_result",
          "data": {
            "text/plain": [
              "<matplotlib.colorbar.Colorbar at 0x7fd3dfe30150>"
            ]
          },
          "metadata": {},
          "execution_count": 78
        },
        {
          "output_type": "display_data",
          "data": {
            "image/png": "[encoded data removed]",
            "text/plain": [
              "<Figure size 720x504 with 2 Axes>"
            ]
          },
          "metadata": {
            "needs_background": "light"
          }
        }
      ]
    },
    {
      "cell_type": "code",
      "metadata": {
        "colab": {
          "base_uri": "https://localhost:8080/"
        },
        "id": "Zuk2znBChYs-",
        "outputId": "a691da61-7910-41ca-d129-c5031dd1914a"
      },
      "source": [
        "# 2D histogram after filtering people with recency equals 5\n",
        "fig = plt.subplots(figsize =(10, 7))\n",
        "plt.hist2d(RFM[RFM['R']==5]['F'], RFM[RFM['R']==5]['M'], cmap='Blues',bins=(5,5))\n",
        "plt.title(\"2D Histogram\")\n",
        "plt.xlabel(\"Frequency\")\n",
        "plt.ylabel(\"Monetary\")\n",
        "plt.colorbar()"
      ],
      "id": "Zuk2znBChYs-",
      "execution_count": null,
      "outputs": [
        {
          "output_type": "execute_result",
          "data": {
            "text/plain": [
              "<matplotlib.colorbar.Colorbar at 0x7fd3e02a7750>"
            ]
          },
          "metadata": {},
          "execution_count": 79
        },
        {
          "output_type": "display_data",
          "data": {
            "image/png": "[encoded data removed]",
            "text/plain": [
              "<Figure size 720x504 with 2 Axes>"
            ]
          },
          "metadata": {
            "needs_background": "light"
          }
        }
      ]
    }
  ]
}